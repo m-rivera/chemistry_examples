{
 "cells": [
  {
   "cell_type": "markdown",
   "metadata": {},
   "source": [
    "# Lever rule\n",
    "\n",
    "The following Python script will plot three lines, plotting $x_A$, $y_A$ and $z_A$ against total pressure. Given that this is an ideal system, the plot of $x_A$ against $p$ is linear. $y_A$ is calculated using:\n",
    "$$y_A=\\frac{p_A}{p}$$\n",
    "The Lever rule is rearranged:\n",
    "$$n_\\alpha l_\\alpha=n_\\beta l_\\beta$$\n",
    "$$\\frac{n_\\alpha}{n_\\beta}=\\frac{l_\\beta}{l_\\alpha}$$\n",
    "We know that:\n",
    "$$n_\\beta-n_\\alpha=l_\\alpha+l_\\beta$$\n",
    "Therefore:\n",
    "$$\\frac{n_\\beta-n_\\alpha}{l_\\alpha}=1+\\frac{l_\\beta}{l_\\alpha}$$\n",
    "$$\\frac{n_\\beta-n_\\alpha}{l_\\alpha}=1+\\frac{n_\\alpha}{n_\\beta}$$\n",
    "$$l_\\alpha=\\frac{n_\\beta-n_\\alpha}{1+\\frac{n_\\alpha}{n_\\beta}}$$\n",
    "And $z_A$ is calculated by:\n",
    "$$z_A=n_\\alpha+l_\\alpha$$\n",
    "$$z_A=n_\\alpha+\\frac{n_\\beta-n_\\alpha}{1+\\frac{n_\\alpha}{n_\\beta}}$$\n",
    "$$z_A=x_A+\\frac{y_A-x_A}{1+\\frac{x_A}{y_A}}$$\n",
    "\n",
    "## How to use the script\n",
    "The pressures of the pure components can be altered in the script. Running the script will produce the plot. The units parameter can be changed to alter the label on the y-axis.\n",
    "\n",
    "## Things to try\n",
    "1. Alter the pressures of pure A and B. Try values where $p_A*>>p_B*$, $p_A*>p_B*$ and $p_A*=p_B*$. What happens to the difference between $x_A$ and $y_A$?\n",
    "2. Alter the pressures of pure A and B to 15 Pa and 5 Pa. Why why is $z_A$ closer to $y_A$ at smaller values?"
   ]
  },
  {
   "cell_type": "code",
   "execution_count": null,
   "metadata": {},
   "outputs": [],
   "source": [
    "\"\"\"Lever Rule (Thermodynamics)\"\"\"\n",
    "import matplotlib.pyplot as plt\n",
    "import numpy as np\n",
    "\n",
    "# parameters\n",
    "pA_star = 15  # partial pressure of pure A\n",
    "pB_star = 5  # partial pressure of pure B\n",
    "units = \"Pa\"  # units\n",
    "\n",
    "\n",
    "# equations\n",
    "pA = np.linspace(0, pA_star, 100)  # partial pressure of A\n",
    "pB = np.linspace(pB_star, 0, 100)  # partial pressure of B\n",
    "p = pA + pB  # total pressure\n",
    "xA = np.linspace(0.0000000001, 1, 100)\n",
    "yA = pA / p\n",
    "zA = xA + ((yA - xA) / (1 + (xA / yA)))\n",
    "\n",
    "# plotting\n",
    "fig, ax = plt.subplots()\n",
    "# plots a blue line for xA against p\n",
    "ax.plot(xA, p, color=\"teal\", label=\"$x_A$\")\n",
    "# plots an orange line for yA against p\n",
    "ax.plot(yA, p, color=\"darkorange\", label=\"$y_A$\")\n",
    "# plots a dashed line for zA against p\n",
    "ax.plot(zA, p, color=\"grey\", label=\"$z_A$\", linestyle=\"dashed\")\n",
    "ax.set_xlabel(\"Mole Fraction of A  $z_A$\")\n",
    "ax.set_ylabel(\"Pressure  $p$ (\" + units + \")\")\n",
    "ax.set_xbound(0, 1)\n",
    "ax.set_ybound(0)\n",
    "ax.legend()\n",
    "\n",
    "plt.show()"
   ]
  }
 ],
 "metadata": {
  "language_info": {
   "name": "python"
  },
  "orig_nbformat": 4
 },
 "nbformat": 4,
 "nbformat_minor": 2
}
