{
 "cells": [
  {
   "cell_type": "markdown",
   "metadata": {},
   "source": [
    "# Consecutive reactions\n",
    "\n",
    "The following Python script will plot the concentrations of molecules A, B and C in a pair consecutive reactions.\n",
    "$$A\\longrightarrow B\\longrightarrow C$$\n",
    "The script uses equations from the lecture material to plot $[A]_t$ (green), $[B]_t$ (orange) and $[C]_t$ (blue).\n",
    "$$[A]_t = [A]_0e^{-k_1t}$$\n",
    "$$[B]_t = \\frac{k_1[A]_0}{k_2-k_1}(e^{-k_1t}-e^{-k_2t})$$\n",
    "$$[C]_t = [A]_0-[A]_t-[B]_t$$\n",
    "A dotted line is also plotted to show the time at which $[B]$ is highest ($t_{max}$).\n",
    "$$t_{max} = \\frac{\\ln \\frac{k_2}{k_1}}{k_2-k_1}$$\n",
    "\n",
    "## How to use the script\n",
    "\n",
    "Parameters for $k_1$ (k1) and $k_2$ (k2) can be adjusted in the script. Likewise, the initial concentration of A, $[A]_0$ (A0) can be changed. Running the script will produce a plot. If the x-axis is too long/short, try adjusting the run time, $t_{max}$ (t_end).\n",
    "\n",
    "## Things to try\n",
    "\n",
    "Read the script and take note of the parameters and formulae. Run the script.\n",
    "\n",
    "Adjust the values of $k_1$ and $k_2$ to where $k_1>>k_2$ and $k_1<<k_2$. Make predictions of what the plot should look like and run the script.\n",
    "\n",
    "Now set $k_1=k_2$. Run the script. Why do you get the result you do?"
   ]
  },
  {
   "cell_type": "code",
   "execution_count": null,
   "metadata": {},
   "outputs": [],
   "source": [
    "''''Consecutive Reactions'''\n",
    "import matplotlib.pyplot as plt\n",
    "import numpy as np\n",
    "\n",
    "# parameters\n",
    "k1 = 0.1  # k1 is the rate constant for the first reaction (A->B)\n",
    "k2 = 1  # k2 is the rate constant for the second reaction (B->C)\n",
    "t_end = 100  # t_end is the time period to be plotted\n",
    "A0 = 1  # A0 is the initial concentration of A\n",
    "\n",
    "# equations\n",
    "t = np.linspace(0, t_end, 1000)  # create an array of time values\n",
    "A = A0 * np.exp(\n",
    "    -k1 * t\n",
    ")  # calculate the concentration of A using the values of t, A0 and k1\n",
    "B = ((k1 * A0) / (k2 - k1)) * (\n",
    "    np.exp(-k1 * t) - np.exp(-k2 * t)\n",
    ")  # calculate the concentration of B using the values of t, A0, k1 and k2\n",
    "C = A0 - A - B  # calculate the concentration of C from A0, A and B\n",
    "t_max = np.log(k2 / k1) / (k2 - k1)  # indicate the time of maximum [B]\n",
    "\n",
    "# plotting\n",
    "fig, ax = plt.subplots()\n",
    "ax.plot(t, A, label=\"[A]\")\n",
    "ax.plot(t, B, label=\"[B]\")\n",
    "ax.plot(t, C, label=\"[C]\")\n",
    "ax.vlines(t_max, 0, 1, color=\"grey\", linestyles=\"dashed\", label=\"$t_{max}$\")\n",
    "ax.set_xlabel(\"Time / s\")\n",
    "ax.set_xbound(0, t_end)\n",
    "ax.set_ylabel(\"[A], [B], [C] / arbitrary units\")\n",
    "ax.set_ybound(0, A0)\n",
    "ax.legend()\n",
    "\n",
    "plt.show()"
   ]
  }
 ],
 "metadata": {
  "language_info": {
   "name": "python"
  },
  "orig_nbformat": 4
 },
 "nbformat": 4,
 "nbformat_minor": 2
}
