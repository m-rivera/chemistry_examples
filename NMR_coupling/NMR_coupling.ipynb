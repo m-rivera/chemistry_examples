{
 "cells": [
  {
   "cell_type": "markdown",
   "metadata": {},
   "source": [
    "# NMR coupling\n",
    "\n",
    "The following Python script will plot splitting patterns. This is done by plotting overlapping Gaussian curves with means determined by the coupling constants.\n",
    "\n",
    "## How to use the script\n",
    "Various parameters can be adjusted: \n",
    "- n - number of protons for each couple (eg. Doublet = [1], Triplet = [2], Doublet of Triplets = [1, 2]).\n",
    "- J\\_coupling\\_constants - coupling constants for each couple described by n.\n",
    "- standard\\_deviation - standard deviation of the Gaussian distributions. This modifies the width of each peak.\n",
    "\n",
    "Running the script by clicking Activate, followed by Run, will produce a plot of the splitting pattern.\n",
    "\n",
    "## Things to try\n",
    "1. Read the script and take note of the parameters and formulae. Run the code.\n",
    "2. Alter the parameters. Make predictions of what the plot should look like and run the script. Repeat a couple times until your predictions are correct."
   ]
  },
  {
   "cell_type": "code",
   "execution_count": null,
   "metadata": {},
   "outputs": [],
   "source": [
    "\"\"\"NMR Coupling Visualiser\"\"\"\n",
    "import matplotlib.pyplot as plt\n",
    "import numpy as np\n",
    "import math\n",
    "\n",
    "n = [1, 1]  # Number of H atoms per coupling\n",
    "J_coupling_constants = [6, 2]  # List of J coupling constants\n",
    "standard_deviation = 0.125  # Standard deviation of the Gaussian curves\n",
    "\n",
    "\n",
    "def function(x, positions, n_index):  # Function to calculate the Gaussian curves\n",
    "    coefficient = 1\n",
    "    for a in n[: n_index + 1]:\n",
    "        # Calculate the number of curves required\n",
    "        coefficient = (2 ** a) * coefficient\n",
    "    y = np.zeros(len(x))  # Create an array of zeros to store the y values\n",
    "    if n_index == -1:\n",
    "        coefficient = 1\n",
    "    for position in positions:\n",
    "        y += (\n",
    "            np.exp(-((x - position) ** 2) / (2 * standard_deviation))\n",
    "            / (standard_deviation * math.sqrt(2 / math.pi))\n",
    "        ) / coefficient  # Calculates the splitting pattern by adding together Gaussian curves\n",
    "    return y  # Returns the y coordinates for the splitting pattern\n",
    "\n",
    "\n",
    "fig, ax = plt.subplots()  # Create a figure and a 3D axes\n",
    "x = np.linspace(-20, 20, 1000)  # Create an array of x values\n",
    "\n",
    "positions = [0]  # List of positions for each curve\n",
    "n_index = -1\n",
    "# Calculate the y coordinates for the uncoupled peak\n",
    "y = function(x, positions, n_index)\n",
    "ax.plot(x, y, label=\"Uncoupled\")  # Plot the uncoupled peak\n",
    "\n",
    "label = \"J = \"\n",
    "for n_index in range(len(n)):\n",
    "    label = label + str(J_coupling_constants[n_index]) + \" Hz\"\n",
    "    for i in range(n[n_index]):\n",
    "        for i in range(len(positions)):\n",
    "            positions.append(positions[i] + J_coupling_constants[n_index] / 2)\n",
    "            positions[i] = positions[i] - J_coupling_constants[n_index] / 2\n",
    "    # Calculate the y coordinates for each additional coupling\n",
    "    y = function(x, positions, n_index)\n",
    "    ax.plot(x, y, label=label)  # Plot each coupling\n",
    "    label = label + \", \"\n",
    "\n",
    "ax.legend()\n",
    "ax.set_xlabel(\"Hz\")\n",
    "ax.set_yticklabels([])\n",
    "\n",
    "plt.show()"
   ]
  }
 ],
 "metadata": {
  "kernelspec": {
   "display_name": "Python 3.9.7 ('base')",
   "language": "python",
   "name": "python3"
  },
  "language_info": {
   "name": "python",
   "version": "3.9.7"
  },
  "orig_nbformat": 4,
  "vscode": {
   "interpreter": {
    "hash": "40d3a090f54c6569ab1632332b64b2c03c39dcf918b08424e98f38b5ae0af88f"
   }
  }
 },
 "nbformat": 4,
 "nbformat_minor": 2
}
