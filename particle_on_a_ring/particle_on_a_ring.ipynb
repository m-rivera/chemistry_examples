{
 "cells": [
  {
   "cell_type": "markdown",
   "metadata": {},
   "source": [
    "# Particle on a ring\n",
    "\n",
    "The following Python script will plot the real components of wavefunctions for a particle on a ring. \\par\\medskip \n",
    "\\noindent The script uses wavefunction from the lecture material:\n",
    "$$\\psi (\\phi) = N(\\cos m_l \\phi \\pm i \\sin m_l \\phi)$$\n",
    "\n",
    "## How to use the script\n",
    "\n",
    "The quantum number, $m_l$, should be changed to show different wavefunctions. Running the script by clicking Activate, followed by Run, will produce a 3D plot of the wavefunction's real component.\n",
    "\n",
    "## Things to try\n",
    "\n",
    "1. Read the script and take note of the parameters and formulae. Run the code.\n",
    "\n",
    "2. Make drawings of what the plots should look like for $m_l=\\pm 1, \\pm 2, \\pm 3$ and $\\pm 4$. Run the script. Were your drawings correct? \n",
    "\n",
    "3. EXTENSION: Change the function for psi to:  \n",
    "psi = np.cos(2 * phi) * np.cos(3 * phi)}  \n",
    "Run the script. What does the plot show? Are the wavefunctions for $m_l = 2$ and $m_l = 3$ orthogonal?  \n",
    "(HINT: The function refers to the multiplication of the wavefunctions for $m_l = 2$ and $m_l = 3$)"
   ]
  },
  {
   "cell_type": "code",
   "execution_count": null,
   "metadata": {},
   "outputs": [],
   "source": [
    "\"\"\"Particle On A Ring (Quantum Mechanics)\"\"\"\n",
    "import matplotlib.pyplot as plt\n",
    "import numpy as np\n",
    "from mpl_toolkits.mplot3d.art3d import Poly3DCollection\n",
    "\n",
    "# parameters\n",
    "ml = 2 # quantum number ml\n",
    "\n",
    "# equations\n",
    "points = 180*(ml+1) # number of points to be plotted\n",
    "phi = np.linspace(0, 2*np.pi, points)\n",
    "psi = np.cos(ml * phi)  # real (cosine) parts of the wavefunction\n",
    "x = np.cos(phi) # converts from polar to cartesian coordinates\n",
    "y = np.sin(phi) # converts from polar to cartesian coordinates\n",
    "\n",
    "# plotting\n",
    "fig, ax = plt.subplots(subplot_kw=dict(projection=\"3d\"))\n",
    "ax.scatter(x, y, psi, c=psi)\n",
    "for i in range(len(x) - 1):\n",
    "    verts = [(x[i], y[i], psi[i]), (x[i + 1], y[i + 1], psi[i + 1])] + [\n",
    "        (x[i + 1], y[i + 1], np.zeros(points)[i + 1]),\n",
    "        (x[i], y[i], np.zeros(points)[i])\n",
    "    ]\n",
    "    ax.add_collection3d(\n",
    "        Poly3DCollection([verts], color=\"grey\", linewidths=0, alpha=0.5)\n",
    "    )\n",
    "ax.plot(x, y, np.zeros(points), color=\"grey\")\n",
    "ax.set_xlabel(\"$x$\")\n",
    "ax.set_ylabel(\"$y$\")\n",
    "ax.set_zlabel(\"$\\cos m_l\\phi$\")\n",
    "\n",
    "plt.show()"
   ]
  }
 ],
 "metadata": {
  "kernelspec": {
   "display_name": "Python 3.9.7 ('base')",
   "language": "python",
   "name": "python3"
  },
  "language_info": {
   "name": "python",
   "version": "3.9.7"
  },
  "orig_nbformat": 4,
  "vscode": {
   "interpreter": {
    "hash": "40d3a090f54c6569ab1632332b64b2c03c39dcf918b08424e98f38b5ae0af88f"
   }
  }
 },
 "nbformat": 4,
 "nbformat_minor": 2
}
