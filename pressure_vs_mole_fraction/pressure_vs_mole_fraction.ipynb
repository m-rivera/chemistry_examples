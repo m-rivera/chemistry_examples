{
 "cells": [
  {
   "cell_type": "markdown",
   "metadata": {},
   "source": [
    "# Pressure vs mole fraction\n",
    "The following Python script will plot three lines one for each of the partial pressures of an ideal, two component system and one for the total pressure of the system.\n",
    "\n",
    "## How to use the script\n",
    "The pressures of the pure components can be altered in the script. Running the script will produce the plot. The units parameter can be changed to alter the label on the y-axis.\n",
    "\n",
    "## Things to try\n",
    "1. Alter the partial pressures of pure A and B. Do you get the result you expected?"
   ]
  },
  {
   "cell_type": "code",
   "execution_count": null,
   "metadata": {},
   "outputs": [],
   "source": [
    "\"\"\"Pressure vs Mole Fraction (Thermodynamics)\"\"\"\n",
    "import matplotlib.pyplot as plt\n",
    "\n",
    "# parameters\n",
    "pA_star = 20  # partial pressure of pure A\n",
    "pB_star = 15  # partial pressure of pure B\n",
    "units = \"Pa\"  # units\n",
    "\n",
    "# plotting\n",
    "fig, ax = plt.subplots()\n",
    "\n",
    "# plots a green line between (0,B_star) and (1,0)\n",
    "ax.plot([0, 1], [pB_star, 0], color=\"#555F32\", label=\"$p_B$\")\n",
    "# plots a purple line between (0,0) and (1,A_star)\n",
    "ax.plot([0, 1], [0, pA_star], color=\"#5F0F5F\", label=\"$p_A$\")\n",
    "# plots a black line between (0,B_star) and (1,A_star)\n",
    "ax.plot([0, 1], [pB_star, pA_star], color=\"k\", label=\"Total pressure $p$\")\n",
    "ax.set_xlabel(\"Mole Fraction of A  $x_A$\")\n",
    "ax.set_ylabel(\"Pressure  $p$ (\" + units + \")\")\n",
    "ax.set_xbound(0, 1)\n",
    "ax.set_ybound(0)\n",
    "ax.legend()\n",
    "\n",
    "plt.show()"
   ]
  }
 ],
 "metadata": {
  "kernelspec": {
   "display_name": "Python 3.9.7 ('base')",
   "language": "python",
   "name": "python3"
  },
  "language_info": {
   "name": "python",
   "version": "3.9.7"
  },
  "orig_nbformat": 4,
  "vscode": {
   "interpreter": {
    "hash": "40d3a090f54c6569ab1632332b64b2c03c39dcf918b08424e98f38b5ae0af88f"
   }
  }
 },
 "nbformat": 4,
 "nbformat_minor": 2
}
