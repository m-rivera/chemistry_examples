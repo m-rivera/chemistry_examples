{
 "cells": [
  {
   "cell_type": "markdown",
   "metadata": {},
   "source": [
    "# Discrete level occupation\n",
    "\n",
    "The following Python script will plot the occupation of evenly spaced energy levels within a given temperature range.\n",
    "\n",
    "The script modifies the equation from the lecture material to give occupancy as a fraction:\n",
    "$$\\frac{n_i}{N} = \\frac{g_ie^-\\frac{e_i}{kT}}{N}$$\n",
    "\n",
    "## How to use the script\n",
    "\n",
    "Various parameters can be adjusted: \n",
    "- T\\_min - lower bound for the temperature axis (Note: $T\\neq0$, use 1e-30 instead).\n",
    "- T\\_max - upper bound for the temperature axis.\n",
    "- degeneracies - degeneracies of each energy level. To change the number of levels, add additional values for degeneracy (e.g. [1, 2, 3, 4, 5, 6]).\n",
    "- separation - separation between energy levels.\n",
    "\n",
    "Running the script by clicking Activate, followed by Run, will produce a plot.\n",
    "\n",
    "## Things to try\n",
    "\n",
    "1. Read the script and take note of the parameters and formulae. Run the code. Why does the second energy level have a maximum?\n",
    "2. Increase the degeneracy of one of the levels to 2. What happens to its occupancy? Likewise, what happens to the occupancy of the other levels?\n",
    "3. Change the number of energy levels. What happens to the occupancy?"
   ]
  },
  {
   "cell_type": "code",
   "execution_count": null,
   "metadata": {},
   "outputs": [],
   "source": [
    "\"\"\"Discrete Level Occupation\"\"\"\n",
    "import matplotlib.pyplot as plt\n",
    "import numpy as np\n",
    "import colour\n",
    "import scipy.constants as const\n",
    "\n",
    "# parameters\n",
    "T_min = 1e-30  # min temperature (K)\n",
    "T_max = 40000  # max temperature (K)\n",
    "levels = [1, 1, 1, 1, 1]  # degeneracies of each energy level\n",
    "separation = 0.1  # separation between energy levels\n",
    "\n",
    "# equations\n",
    "energies = np.linspace(\n",
    "    0, (len(levels)-1) * separation, len(levels)\n",
    ")  # calculates the energies of each level\n",
    "T = np.linspace(T_min, T_max, 200)\n",
    "\n",
    "# plotting\n",
    "fig, ax = plt.subplots(subplot_kw=dict(projection=\"3d\"))\n",
    "red = colour.Color(\"red\")\n",
    "colours = list(red.range_to(colour.Color(\"blue\"), len(levels)))\n",
    "for i, c in enumerate(colours):\n",
    "    colours[i] = c.rgb\n",
    "\n",
    "# more equations\n",
    "for t in T:\n",
    "    occupation = levels * np.exp(\n",
    "        -(energies) / (const.k / const.eV * t)\n",
    "    )  # calculates occupation of each energy level\n",
    "    occupation = occupation / np.sum(\n",
    "        occupation\n",
    "    )  # calculates occupation to make total occupation, N = 1\n",
    "    ax.bar3d(\n",
    "        x=t * np.ones(np.shape(energies)),\n",
    "        y=energies,\n",
    "        z=np.zeros(np.shape(energies)),\n",
    "        dx=(T_max - T_min) / 500 * np.ones(np.shape(energies)),\n",
    "        dy=separation * np.ones(np.shape(energies)),\n",
    "        dz=occupation,\n",
    "        color=colours,\n",
    "    )\n",
    "\n",
    "# more plotting\n",
    "ax.set_xlabel(\"Temperature, $T$ (K)\")\n",
    "ax.set_ylabel(\"Energy level (eV)\")\n",
    "ax.set_zlabel(r\"Energy level occupation, $\\frac{n}{N}$\")\n",
    "ax.view_init(elev=7.5, azim=120)\n",
    "\n",
    "plt.show()"
   ]
  }
 ],
 "metadata": {
  "kernelspec": {
   "display_name": "Python 3.9.7 ('base')",
   "language": "python",
   "name": "python3"
  },
  "language_info": {
   "name": "python",
   "version": "3.9.7"
  },
  "orig_nbformat": 4,
  "vscode": {
   "interpreter": {
    "hash": "40d3a090f54c6569ab1632332b64b2c03c39dcf918b08424e98f38b5ae0af88f"
   }
  }
 },
 "nbformat": 4,
 "nbformat_minor": 2
}
