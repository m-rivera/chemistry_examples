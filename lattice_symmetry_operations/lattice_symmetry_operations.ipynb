{
 "cells": [
  {
   "cell_type": "markdown",
   "metadata": {},
   "source": [
    "# Lattice symmetry operations\n",
    "\n",
    "The following Python script will plot the the position of an atom in a lattice and perform a user-defined symmetry operation to plot the position of a second atom.\n",
    "\n",
    "## How to use the script\n",
    "\n",
    "The initial position of the atom can be adjusted by changing the value of initial_coords. Similarly, the symmetry operation (sym_operation) can be changed. Running the script, will produce a 3D plot.\n",
    "\n",
    "## Things to try\n",
    "\n",
    "1. Read the script and draw the plot. Run the code. Was your drawing correct?\n",
    "\n",
    "2. Try Part 1 again with various operations, including translations and rotations.\n",
    "    - Example for translation:&emsp;&emsp;&emsp;1+x, y, z\n",
    "    - Example for rotation:&emsp;&emsp;&emsp;&emsp;&nbsp;-x, -y, z\n",
    "    - A more complex example:&emsp;&emsp;-y, x-y, z"
   ]
  },
  {
   "cell_type": "code",
   "execution_count": null,
   "metadata": {},
   "outputs": [],
   "source": [
    "# Lattice Symmetry Operations\n",
    "import matplotlib.pyplot as plt\n",
    "\n",
    "initial_coords = [1, 2, 3]    # initial coordinates of the atom\n",
    "x, y, z = initial_coords\n",
    "\n",
    "sym_operator = [-x, y, z]   # symmetry operation\n",
    "x2, y2, z2 = sym_operator\n",
    "\n",
    "fig, ax = plt.subplots(subplot_kw=dict(projection='3d'))\n",
    "maximum = max([x, y, z, x2, y2, z2])\n",
    "minimum = min([x, y, z, x2, y2, z2])\n",
    "maximmum = max([maximum,-minimum])\n",
    "ax.plot([-maximum, maximum], [0, 0], [0, 0], color='k')\n",
    "ax.plot([0, 0], [-maximum, maximum], [0, 0], color='k')\n",
    "ax.plot([0, 0], [0, 0], [-maximum, maximum], color='k')\n",
    "ax.plot(x, y, z, marker=\"o\", markersize=5, color='green',\n",
    "        label='Initial $('+str(x)+','+str(y)+','+str(z)+')$')\n",
    "ax.plot([0, x], [0, 0], [0, 0], color='green', linestyle='dashed')\n",
    "ax.plot([x, x], [0, y], [0, 0], color='green', linestyle='dashed')\n",
    "ax.plot([x, x], [y, y], [0, z], color='green', linestyle='dashed')\n",
    "ax.plot(x2, y2, z2, marker=\"o\",\n",
    "        markersize=5, color='red', label='Final $('+str(x2)+','+str(y2)+','+str(z2)+')$')\n",
    "ax.plot([0, x2], [0, 0], [0, 0], color='red', linestyle='dashed')\n",
    "ax.plot([x2, x2], [0, y2], [0, 0], color='red', linestyle='dashed')\n",
    "ax.plot([x2, x2], [y2, y2], [0, z2], color='red', linestyle='dashed')\n",
    "\n",
    "ax.set_xlabel('$x$')\n",
    "ax.set_ylabel('$y$')\n",
    "ax.set_zlabel('$z$')\n",
    "ax.legend()\n",
    "\n",
    "plt.show()"
   ]
  }
 ],
 "metadata": {
  "language_info": {
   "name": "python"
  },
  "orig_nbformat": 4
 },
 "nbformat": 4,
 "nbformat_minor": 2
}
